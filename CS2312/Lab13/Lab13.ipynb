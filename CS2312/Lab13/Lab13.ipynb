{
  "nbformat": 4,
  "nbformat_minor": 0,
  "metadata": {
    "colab": {
      "provenance": []
    },
    "kernelspec": {
      "name": "python3",
      "display_name": "Python 3"
    },
    "language_info": {
      "name": "python"
    }
  },
  "cells": [
    {
      "cell_type": "markdown",
      "source": [
        "# Lab 13"
      ],
      "metadata": {
        "id": "iAVGRnXcvrVh"
      }
    },
    {
      "cell_type": "markdown",
      "source": [
        "## Part A: Selected Features of Python"
      ],
      "metadata": {
        "id": "ogVVrj2PvmQd"
      }
    },
    {
      "cell_type": "markdown",
      "source": [
        "### A.1 Variable and List, comments, input"
      ],
      "metadata": {
        "id": "T76iKcUyvwUC"
      }
    },
    {
      "cell_type": "code",
      "execution_count": 1,
      "metadata": {
        "colab": {
          "base_uri": "https://localhost:8080/"
        },
        "id": "tFNf8u7FvjlP",
        "outputId": "87168d98-d50d-4470-d732-7b2db773bf7c"
      },
      "outputs": [
        {
          "output_type": "execute_result",
          "data": {
            "text/plain": [
              "('apple', 'pear', ['apple', 3.14])"
            ]
          },
          "metadata": {},
          "execution_count": 1
        }
      ],
      "source": [
        "x = \"apple\"\n",
        "y = 'pear'\n",
        "myList = [\"apple\", 3.14]\n",
        "(x, y, myList)"
      ]
    },
    {
      "cell_type": "markdown",
      "source": [
        "### A.2 Printing"
      ],
      "metadata": {
        "id": "pTUeQtqxv_VV"
      }
    },
    {
      "cell_type": "code",
      "source": [
        "print(\"Testing\", x, y, myList)"
      ],
      "metadata": {
        "colab": {
          "base_uri": "https://localhost:8080/"
        },
        "id": "vYbqOgmIwBPy",
        "outputId": "2ceffd27-50e0-4c3f-e2da-f6615a31e611"
      },
      "execution_count": 2,
      "outputs": [
        {
          "output_type": "stream",
          "name": "stdout",
          "text": [
            "Testing apple pear ['apple', 3.14]\n"
          ]
        }
      ]
    },
    {
      "cell_type": "markdown",
      "source": [
        "### A.3 Define a function"
      ],
      "metadata": {
        "id": "kGmZZGWnwHBo"
      }
    },
    {
      "cell_type": "code",
      "source": [
        "sum = 0\n",
        "\n",
        "def addValue(x):\n",
        "  global sum\n",
        "  sum += x\n",
        "\n",
        "addValue(1)\n",
        "addValue(2)\n",
        "addValue(3)\n",
        "sum"
      ],
      "metadata": {
        "colab": {
          "base_uri": "https://localhost:8080/"
        },
        "id": "hg7ADz2UwGuS",
        "outputId": "03f7cad3-eb85-4f98-b046-3be114910392"
      },
      "execution_count": 3,
      "outputs": [
        {
          "output_type": "execute_result",
          "data": {
            "text/plain": [
              "6"
            ]
          },
          "metadata": {},
          "execution_count": 3
        }
      ]
    },
    {
      "cell_type": "markdown",
      "source": [
        "### A.4 `and`, `or`, `not`, `True`, `False`"
      ],
      "metadata": {
        "id": "hXBn7hE1wS_A"
      }
    },
    {
      "cell_type": "code",
      "source": [
        "(True and False, True or False, not False)"
      ],
      "metadata": {
        "colab": {
          "base_uri": "https://localhost:8080/"
        },
        "id": "oGm6FzGQwDKL",
        "outputId": "bd066560-c784-4cb8-d74a-f6a26d71cf9e"
      },
      "execution_count": 4,
      "outputs": [
        {
          "output_type": "execute_result",
          "data": {
            "text/plain": [
              "(False, True, True)"
            ]
          },
          "metadata": {},
          "execution_count": 4
        }
      ]
    },
    {
      "cell_type": "markdown",
      "source": [
        "### A.5 Control of Flow, Multiple assignment"
      ],
      "metadata": {
        "id": "m_Jmg-m5wbg-"
      }
    },
    {
      "cell_type": "code",
      "source": [
        "a, b, c = 1, 2, 3\n",
        "max_value = 0\n",
        "if a > b:\n",
        "  if a > c:\n",
        "    max_value = a\n",
        "  else:\n",
        "    max_value = c\n",
        "elif b > c:\n",
        "  max_value = b\n",
        "else:\n",
        "  max_value = c\n",
        "max_value"
      ],
      "metadata": {
        "colab": {
          "base_uri": "https://localhost:8080/"
        },
        "id": "LNptax-kwfzU",
        "outputId": "e001945d-fb65-4c80-dfae-264c605d5a09"
      },
      "execution_count": 5,
      "outputs": [
        {
          "output_type": "execute_result",
          "data": {
            "text/plain": [
              "3"
            ]
          },
          "metadata": {},
          "execution_count": 5
        }
      ]
    },
    {
      "cell_type": "markdown",
      "source": [
        "### A.6 List `+` and slicing"
      ],
      "metadata": {
        "id": "IT1p2RZuxB99"
      }
    },
    {
      "cell_type": "code",
      "source": [
        "s = [1, 2, -3, 4, 5, -6, 7, 8, -9, 10, -11, -12, 13, -14, 15, -16]\n",
        "s = s[1:6]\n",
        "(s, s[:3], s[3:])"
      ],
      "metadata": {
        "colab": {
          "base_uri": "https://localhost:8080/"
        },
        "id": "H_wn__vmxEST",
        "outputId": "939e4757-9af7-4211-8eb7-6d5e50895cb4"
      },
      "execution_count": 6,
      "outputs": [
        {
          "output_type": "execute_result",
          "data": {
            "text/plain": [
              "([2, -3, 4, 5, -6], [2, -3, 4], [5, -6])"
            ]
          },
          "metadata": {},
          "execution_count": 6
        }
      ]
    },
    {
      "cell_type": "markdown",
      "source": [
        "### A.7 The `list()` function"
      ],
      "metadata": {
        "id": "FWUJI_lcxPK5"
      }
    },
    {
      "cell_type": "code",
      "source": [
        "list(\"hello\")"
      ],
      "metadata": {
        "colab": {
          "base_uri": "https://localhost:8080/"
        },
        "id": "GmOqQyaSxSOW",
        "outputId": "fb7c38c7-2f13-435c-ce09-52433a119111"
      },
      "execution_count": 7,
      "outputs": [
        {
          "output_type": "execute_result",
          "data": {
            "text/plain": [
              "['h', 'e', 'l', 'l', 'o']"
            ]
          },
          "metadata": {},
          "execution_count": 7
        }
      ]
    },
    {
      "cell_type": "markdown",
      "source": [
        "### A.8 Lambda function, function variable"
      ],
      "metadata": {
        "id": "LVBR_6W_xUJ4"
      }
    },
    {
      "cell_type": "code",
      "source": [
        "_is_equal = lambda x, y : x == y\n",
        "_is_small = lambda x, y : x < y\n",
        "_is_large = lambda x, y : x > y\n",
        "_append = lambda x, y: x + y\n",
        "(\n",
        "    _is_equal(1, 2),\n",
        "    _is_small(1, 2),\n",
        "    _is_large(1, 2),\n",
        "    _append([1, 2], [3, 4, 5])\n",
        ")"
      ],
      "metadata": {
        "colab": {
          "base_uri": "https://localhost:8080/"
        },
        "id": "4Wga6Yu_xXFB",
        "outputId": "f21f8502-564e-449f-905b-df3b5b785125"
      },
      "execution_count": 8,
      "outputs": [
        {
          "output_type": "execute_result",
          "data": {
            "text/plain": [
              "(False, True, False, [1, 2, 3, 4, 5])"
            ]
          },
          "metadata": {},
          "execution_count": 8
        }
      ]
    },
    {
      "cell_type": "markdown",
      "source": [
        "### A.9 `map` function"
      ],
      "metadata": {
        "id": "aI_UoR8gxs8L"
      }
    },
    {
      "cell_type": "code",
      "source": [
        "sum = 0\n",
        "def addValue(x):\n",
        "  global sum\n",
        "  sum += x\n",
        "  return sum\n",
        "\n",
        "(\n",
        "    list(map(addValue,[1, 2, 3])),\n",
        "    list(map(list, [\"apple\", \"pear\", \"banana\"]))\n",
        ")"
      ],
      "metadata": {
        "colab": {
          "base_uri": "https://localhost:8080/"
        },
        "id": "UOwx9e38xycw",
        "outputId": "9604535e-df3c-48ec-df00-0883bbca7a4e"
      },
      "execution_count": 9,
      "outputs": [
        {
          "output_type": "execute_result",
          "data": {
            "text/plain": [
              "([1, 3, 6],\n",
              " [['a', 'p', 'p', 'l', 'e'],\n",
              "  ['p', 'e', 'a', 'r'],\n",
              "  ['b', 'a', 'n', 'a', 'n', 'a']])"
            ]
          },
          "metadata": {},
          "execution_count": 9
        }
      ]
    },
    {
      "cell_type": "markdown",
      "source": [
        "### A.10 `filter` function"
      ],
      "metadata": {
        "id": "uiwWo-4OyHB-"
      }
    },
    {
      "cell_type": "code",
      "source": [
        "arr = [1, -2, 3, 6, -7, 20, 13, 16]\n",
        "a = filter(lambda x : x > 0, arr)\n",
        "b = filter(lambda x : x < 0, arr)\n",
        "(list(a), list(b), list(a))"
      ],
      "metadata": {
        "colab": {
          "base_uri": "https://localhost:8080/"
        },
        "id": "l_bV-QEeyKWN",
        "outputId": "cd8d75b2-8832-4e93-fa4c-e0eb7d145a7e"
      },
      "execution_count": 10,
      "outputs": [
        {
          "output_type": "execute_result",
          "data": {
            "text/plain": [
              "([1, 3, 6, 20, 13, 16], [-2, -7], [])"
            ]
          },
          "metadata": {},
          "execution_count": 10
        }
      ]
    },
    {
      "cell_type": "markdown",
      "source": [
        "## Part B: Problem Solving"
      ],
      "metadata": {
        "id": "4OASArn-yaZQ"
      }
    },
    {
      "cell_type": "markdown",
      "source": [
        "### B.1: `my_max`"
      ],
      "metadata": {
        "id": "YXHGxhMoydjK"
      }
    },
    {
      "cell_type": "markdown",
      "source": [
        "#### B1.1: The balanced version"
      ],
      "metadata": {
        "id": "_yLMBTzlyftj"
      }
    },
    {
      "cell_type": "code",
      "source": [
        "def my_max(x):\n",
        "  if len(x) == 1:\n",
        "    return x[0]\n",
        "  elif len(x) == 2:\n",
        "    return x[0] if x[0] > x[1] else x[1]\n",
        "  else:\n",
        "    return my_max([my_max(x[:len(x)//2]), my_max(x[len(x)//2:])])\n",
        "\n",
        "my_max([1,2,-3,4,5,-6,7,8,-9,10,-11,-12,13,-14,15,-16])"
      ],
      "metadata": {
        "colab": {
          "base_uri": "https://localhost:8080/"
        },
        "id": "BwSg0ugfyfTN",
        "outputId": "95b047b7-5518-443f-9789-af79b37df4e2"
      },
      "execution_count": 11,
      "outputs": [
        {
          "output_type": "execute_result",
          "data": {
            "text/plain": [
              "15"
            ]
          },
          "metadata": {},
          "execution_count": 11
        }
      ]
    },
    {
      "cell_type": "markdown",
      "source": [
        "#### B1.2: The imbalanced version"
      ],
      "metadata": {
        "id": "M4e1qlmlzLcA"
      }
    },
    {
      "cell_type": "code",
      "source": [
        "def my_max(x):\n",
        "  if len(x) == 1:\n",
        "    return x[0]\n",
        "  elif len(x) == 2:\n",
        "    return x[0] if x[0] > x[1] else x[1]\n",
        "  else:\n",
        "    return my_max([my_max(x[:-1]), x[-1]])\n",
        "\n",
        "my_max([1,2,-3,4,5,-6,7,8,-9,10,-11,-12,13,-14,15,-16])"
      ],
      "metadata": {
        "colab": {
          "base_uri": "https://localhost:8080/"
        },
        "id": "pmWZDQYyzNq3",
        "outputId": "40589ffa-750f-4a57-d1c6-18a11b4be8e4"
      },
      "execution_count": 12,
      "outputs": [
        {
          "output_type": "execute_result",
          "data": {
            "text/plain": [
              "15"
            ]
          },
          "metadata": {},
          "execution_count": 12
        }
      ]
    },
    {
      "cell_type": "markdown",
      "source": [
        "### B2: `my_reverse`"
      ],
      "metadata": {
        "id": "PlHw7TdQzVKR"
      }
    },
    {
      "cell_type": "markdown",
      "source": [
        "#### B2.1: The balanced version"
      ],
      "metadata": {
        "id": "nKykaORQzYph"
      }
    },
    {
      "cell_type": "code",
      "source": [
        "def my_reverse(x):\n",
        "  if len(x) == 1:\n",
        "    return x\n",
        "  return my_reverse(x[len(x)//2:]) + my_reverse(x[:len(x)//2])\n",
        "\n",
        "my_reverse([1,2,-3,4,5,-6,7,8,-9,10,-11,-12,13,-14,15,-16])"
      ],
      "metadata": {
        "colab": {
          "base_uri": "https://localhost:8080/"
        },
        "id": "da-3SSgrzbj1",
        "outputId": "0d2ae1c2-7ee0-4192-a0a3-761f2253b77c"
      },
      "execution_count": 13,
      "outputs": [
        {
          "output_type": "execute_result",
          "data": {
            "text/plain": [
              "[-16, 15, -14, 13, -12, -11, 10, -9, 8, 7, -6, 5, 4, -3, 2, 1]"
            ]
          },
          "metadata": {},
          "execution_count": 13
        }
      ]
    },
    {
      "cell_type": "markdown",
      "source": [
        "#### B2.2: The imbalanced version"
      ],
      "metadata": {
        "id": "oyjdaGM4zrQR"
      }
    },
    {
      "cell_type": "code",
      "source": [
        "def my_reverse(x):\n",
        "  if len(x) == 1:\n",
        "    return x\n",
        "  return [x[-1]] + my_reverse(x[:-1])\n",
        "\n",
        "my_reverse([1,2,-3,4,5,-6,7,8,-9,10,-11,-12,13,-14,15,-16])"
      ],
      "metadata": {
        "colab": {
          "base_uri": "https://localhost:8080/"
        },
        "id": "_510aytqzuXA",
        "outputId": "ffe29f7e-ca0d-495e-9ce9-e37058aeec1d"
      },
      "execution_count": 14,
      "outputs": [
        {
          "output_type": "execute_result",
          "data": {
            "text/plain": [
              "[-16, 15, -14, 13, -12, -11, 10, -9, 8, 7, -6, 5, 4, -3, 2, 1]"
            ]
          },
          "metadata": {},
          "execution_count": 14
        }
      ]
    },
    {
      "cell_type": "markdown",
      "source": [
        "### B3: m, n problem"
      ],
      "metadata": {
        "id": "xyh3RgLlz4J_"
      }
    },
    {
      "cell_type": "code",
      "source": [
        "def m_n(n, m):\n",
        "  if m < 0 or n * (n + 1) / 2 < m:\n",
        "    return []\n",
        "  elif n * (n + 1) / 2 == m:\n",
        "    return [list(range(1, n + 1))]\n",
        "  else:\n",
        "    return list(map(\n",
        "        lambda arr: arr + [n],\n",
        "        m_n(n - 1, m - n)\n",
        "    )) + m_n(n - 1, m)\n",
        "\n",
        "m_n(4, 4)"
      ],
      "metadata": {
        "colab": {
          "base_uri": "https://localhost:8080/"
        },
        "id": "0MOvp9pFz-H5",
        "outputId": "bafde9b9-cdb3-41c6-d746-a79ceb1b6fd9"
      },
      "execution_count": 15,
      "outputs": [
        {
          "output_type": "execute_result",
          "data": {
            "text/plain": [
              "[[4], [1, 3]]"
            ]
          },
          "metadata": {},
          "execution_count": 15
        }
      ]
    },
    {
      "cell_type": "markdown",
      "source": [
        "### B.4: Quick sort"
      ],
      "metadata": {
        "id": "pKYoL-3a040J"
      }
    },
    {
      "cell_type": "code",
      "source": [
        "def quick_sort(myList):\n",
        "  if len(myList) == 0:\n",
        "    return myList\n",
        "  bench_mark = myList[0]\n",
        "  equal = list(filter(lambda x: x == bench_mark, myList))\n",
        "  small = quick_sort(list(filter(lambda x: x < bench_mark, myList)))\n",
        "  large = quick_sort(list(filter(lambda x: x > bench_mark, myList)))\n",
        "  return small + equal + large\n",
        "\n",
        "data_set = [1,2,-3,4,5,-6,7,8,-9,10,-11,-12,13,-14,15,-16]\n",
        "quick_sort(data_set)"
      ],
      "metadata": {
        "colab": {
          "base_uri": "https://localhost:8080/"
        },
        "id": "S1rdcG-w06oK",
        "outputId": "f103b646-8ff7-48b8-983f-c082adbb7857"
      },
      "execution_count": 16,
      "outputs": [
        {
          "output_type": "execute_result",
          "data": {
            "text/plain": [
              "[-16, -14, -12, -11, -9, -6, -3, 1, 2, 4, 5, 7, 8, 10, 13, 15]"
            ]
          },
          "metadata": {},
          "execution_count": 16
        }
      ]
    },
    {
      "cell_type": "markdown",
      "source": [
        "### B.5: `reduce` function"
      ],
      "metadata": {
        "id": "qfyscv_M1g1k"
      }
    },
    {
      "cell_type": "code",
      "source": [
        "f = lambda x, y: x if x > y else y\n",
        "\n",
        "from functools import reduce\n",
        "def my_max(myList):\n",
        "  return reduce(f, myList)\n",
        "\n",
        "my_max(data_set)"
      ],
      "metadata": {
        "colab": {
          "base_uri": "https://localhost:8080/"
        },
        "id": "ZGMJPxYB1jg4",
        "outputId": "474ef283-5aa9-4335-d74b-cf09855d249c"
      },
      "execution_count": 17,
      "outputs": [
        {
          "output_type": "execute_result",
          "data": {
            "text/plain": [
              "15"
            ]
          },
          "metadata": {},
          "execution_count": 17
        }
      ]
    },
    {
      "cell_type": "markdown",
      "source": [
        "### B.6: `reduce` function"
      ],
      "metadata": {
        "id": "ZHrxmvpp11hN"
      }
    },
    {
      "cell_type": "code",
      "source": [
        "appendR = lambda list1, list2: list2 + list1\n",
        "toList = lambda item: [item]\n",
        "\n",
        "def reverse(myList):\n",
        "  return reduce(appendR, map(toList, myList))\n",
        "\n",
        "reverse(data_set)"
      ],
      "metadata": {
        "colab": {
          "base_uri": "https://localhost:8080/"
        },
        "id": "1FXqX8RW13lg",
        "outputId": "8b9ec186-f4fd-4415-ddf3-6e3e457b8c1a"
      },
      "execution_count": 18,
      "outputs": [
        {
          "output_type": "execute_result",
          "data": {
            "text/plain": [
              "[-16, 15, -14, 13, -12, -11, 10, -9, 8, 7, -6, 5, 4, -3, 2, 1]"
            ]
          },
          "metadata": {},
          "execution_count": 18
        }
      ]
    }
  ]
}